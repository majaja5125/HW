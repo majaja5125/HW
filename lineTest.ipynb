{
  "nbformat": 4,
  "nbformat_minor": 0,
  "metadata": {
    "colab": {
      "name": "Untitled1.ipynb",
      "provenance": []
    },
    "kernelspec": {
      "name": "python3",
      "display_name": "Python 3"
    },
    "language_info": {
      "name": "python"
    }
  },
  "cells": [
    {
      "cell_type": "code",
      "execution_count": 5,
      "metadata": {
        "id": "mr691jGfxgG-"
      },
      "outputs": [],
      "source": [
        "token='ZIpfmaYTNgfBVOLNWfrMPuTb6ejtDSpM2ep1DQJjhZK'\n",
        "import requests\n",
        "def lineNotifyMessage(token, msg):\n",
        "    headers = {\n",
        "        \"Authorization\": \"Bearer \" + token, \n",
        "        \"Content-Type\" : \"application/x-www-form-urlencoded\"\n",
        "    }\n",
        "\n",
        "    payload = {'message': msg }\n",
        "    r = requests.post(\"https://notify-api.line.me/api/notify\", headers = headers, params = payload)\n",
        "    return r.status_code\n",
        "def msg(msg):\n",
        "  lineNotifyMessage(token, msg)"
      ]
    },
    {
      "cell_type": "code",
      "source": [
        "\n",
        "PTT_URL = 'https://www.ptt.cc'\n",
        "\n",
        "def get_web_content(url):\n",
        "    resp = requests.get(url=url, cookies={'over18': '1'})\n",
        "\n",
        "import bs4\n",
        "\n",
        "#透過BeautiFul整理且用html.parser解析\n",
        "root = bs4.BeautifulSoup(r.text,\"html.parser\")\n",
        "#找到所有屬性class = \"m-ent\"\n",
        "ment = root.find_all(\"div\",class_=\"m-ent\")\n",
        "#一個一個印出要的資料\n",
        "for title in ment:\n",
        "    print(title.a.string)#取得文章標題\n",
        "    print(\"https://www.ptt.cc\"+title.a.get(\"href\"))#取得文章連結"
      ],
      "metadata": {
        "colab": {
          "base_uri": "https://localhost:8080/",
          "height": 607
        },
        "id": "MFLmEGiw_mZH",
        "outputId": "67164139-d81c-43fe-e07c-696458a0cb33"
      },
      "execution_count": 1,
      "outputs": [
        {
          "output_type": "stream",
          "name": "stdout",
          "text": [
            "Requirement already satisfied: PttWebCrawler in /usr/local/lib/python3.7/dist-packages (1.8)\n",
            "Requirement already satisfied: requests in /usr/local/lib/python3.7/dist-packages (from PttWebCrawler) (2.23.0)\n",
            "Collecting argparse\n",
            "  Using cached argparse-1.4.0-py2.py3-none-any.whl (23 kB)\n",
            "Requirement already satisfied: beautifulsoup4 in /usr/local/lib/python3.7/dist-packages (from PttWebCrawler) (4.6.3)\n",
            "Requirement already satisfied: six in /usr/local/lib/python3.7/dist-packages (from PttWebCrawler) (1.15.0)\n",
            "Requirement already satisfied: urllib3!=1.25.0,!=1.25.1,<1.26,>=1.21.1 in /usr/local/lib/python3.7/dist-packages (from requests->PttWebCrawler) (1.24.3)\n",
            "Requirement already satisfied: certifi>=2017.4.17 in /usr/local/lib/python3.7/dist-packages (from requests->PttWebCrawler) (2021.10.8)\n",
            "Requirement already satisfied: idna<3,>=2.5 in /usr/local/lib/python3.7/dist-packages (from requests->PttWebCrawler) (2.10)\n",
            "Requirement already satisfied: chardet<4,>=3.0.2 in /usr/local/lib/python3.7/dist-packages (from requests->PttWebCrawler) (3.0.4)\n",
            "Installing collected packages: argparse\n",
            "Successfully installed argparse-1.4.0\n"
          ]
        },
        {
          "output_type": "display_data",
          "data": {
            "application/vnd.colab-display-data+json": {
              "pip_warning": {
                "packages": [
                  "argparse"
                ]
              }
            }
          },
          "metadata": {}
        },
        {
          "output_type": "error",
          "ename": "ModuleNotFoundError",
          "evalue": "ignored",
          "traceback": [
            "\u001b[0;31m---------------------------------------------------------------------------\u001b[0m",
            "\u001b[0;31mModuleNotFoundError\u001b[0m                       Traceback (most recent call last)",
            "\u001b[0;32m<ipython-input-1-fa40febacc0a>\u001b[0m in \u001b[0;36m<module>\u001b[0;34m()\u001b[0m\n\u001b[1;32m      1\u001b[0m \u001b[0mget_ipython\u001b[0m\u001b[0;34m(\u001b[0m\u001b[0;34m)\u001b[0m\u001b[0;34m.\u001b[0m\u001b[0msystem\u001b[0m\u001b[0;34m(\u001b[0m\u001b[0;34m'pip install PttWebCrawler'\u001b[0m\u001b[0;34m)\u001b[0m\u001b[0;34m\u001b[0m\u001b[0;34m\u001b[0m\u001b[0m\n\u001b[0;32m----> 2\u001b[0;31m \u001b[0;32mfrom\u001b[0m \u001b[0mPttWebCrawler\u001b[0m\u001b[0;34m.\u001b[0m\u001b[0mcrawler\u001b[0m \u001b[0;32mimport\u001b[0m \u001b[0mPttWebCrawler\u001b[0m \u001b[0;32mas\u001b[0m \u001b[0mcrawler\u001b[0m\u001b[0;34m\u001b[0m\u001b[0;34m\u001b[0m\u001b[0m\n\u001b[0m",
            "\u001b[0;31mModuleNotFoundError\u001b[0m: No module named 'PttWebCrawler.crawler'",
            "",
            "\u001b[0;31m---------------------------------------------------------------------------\u001b[0;32m\nNOTE: If your import is failing due to a missing package, you can\nmanually install dependencies using either !pip or !apt.\n\nTo view examples of installing some common dependencies, click the\n\"Open Examples\" button below.\n\u001b[0;31m---------------------------------------------------------------------------\u001b[0m\n"
          ],
          "errorDetails": {
            "actions": [
              {
                "action": "open_url",
                "actionText": "Open Examples",
                "url": "/notebooks/snippets/importing_libraries.ipynb"
              }
            ]
          }
        }
      ]
    }
  ]
}